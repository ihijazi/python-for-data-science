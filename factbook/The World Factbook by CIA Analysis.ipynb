{
 "cells": [
  {
   "cell_type": "markdown",
   "metadata": {},
   "source": [
    "# The World Factbook by CIA Analysis\n",
    "\n",
    "In this notebook, I'm going to work on Factbook data which contains demographic information for each country in the world, including as of 2015.\n",
    "\n",
    "The dataset is stored in SQLite file called [factbook.db](factbook.db) which you may download if you wish. Having the file is SQLite format means that we'll need to use a SQL related Python module, sqlite3 which is very similar to other SQL modules from functions perspective.\n",
    "\n",
    "The goal of this notebook is to show you how to use SQL capabilities in Python and vice-versa."
   ]
  },
  {
   "cell_type": "markdown",
   "metadata": {},
   "source": [
    "#### Import Data and Return Columns via SQL"
   ]
  },
  {
   "cell_type": "code",
   "execution_count": 1,
   "metadata": {
    "collapsed": false
   },
   "outputs": [
    {
     "data": {
      "text/plain": [
       "[(0, 'id', 'INTEGER', 1, None, 1),\n",
       " (1, 'code', 'varchar(255)', 1, None, 0),\n",
       " (2, 'name', 'varchar(255)', 1, None, 0),\n",
       " (3, 'area', 'integer', 0, None, 0),\n",
       " (4, 'area_land', 'integer', 0, None, 0),\n",
       " (5, 'area_water', 'integer', 0, None, 0),\n",
       " (6, 'population', 'integer', 0, None, 0),\n",
       " (7, 'population_growth', 'float', 0, None, 0),\n",
       " (8, 'birth_rate', 'float', 0, None, 0),\n",
       " (9, 'death_rate', 'float', 0, None, 0),\n",
       " (10, 'migration_rate', 'float', 0, None, 0),\n",
       " (11, 'created_at', 'datetime', 0, None, 0),\n",
       " (12, 'updated_at', 'datetime', 0, None, 0)]"
      ]
     },
     "execution_count": 1,
     "metadata": {},
     "output_type": "execute_result"
    }
   ],
   "source": [
    "import sqlite3\n",
    "\n",
    "conn = sqlite3.connect(\"factbook.db\")\n",
    "c = conn.cursor()\n",
    "\n",
    "c.execute(\"PRAGMA TABLE_INFO(facts)\")\n",
    "\n",
    "[col for col in c.fetchall()]"
   ]
  },
  {
   "cell_type": "markdown",
   "metadata": {},
   "source": [
    "#### Return Sample Row"
   ]
  },
  {
   "cell_type": "code",
   "execution_count": 2,
   "metadata": {
    "collapsed": false
   },
   "outputs": [
    {
     "data": {
      "text/plain": [
       "[(1,\n",
       "  'af',\n",
       "  'Afghanistan',\n",
       "  652230,\n",
       "  652230,\n",
       "  0,\n",
       "  32564342,\n",
       "  2.32,\n",
       "  38.57,\n",
       "  13.89,\n",
       "  1.51,\n",
       "  '2015-11-01 13:19:49.461734',\n",
       "  '2015-11-01 13:19:49.461734')]"
      ]
     },
     "execution_count": 2,
     "metadata": {},
     "output_type": "execute_result"
    }
   ],
   "source": [
    "c.execute(\"SELECT * FROM FACTS LIMIT 1\")\n",
    "\n",
    "[line for line in c.fetchall()]"
   ]
  },
  {
   "cell_type": "markdown",
   "metadata": {},
   "source": [
    "#### Cleaning and Enriching Data with Pandas"
   ]
  },
  {
   "cell_type": "code",
   "execution_count": 3,
   "metadata": {
    "collapsed": false
   },
   "outputs": [],
   "source": [
    "import pandas as pd\n",
    "import math\n",
    "\n",
    "pd.set_option('display.float_format',lambda x: '%.3f' % x)  ## This would remove the math scientific notation from numbers\n",
    "df = pd.read_sql_query(\"SELECT * FROM facts\",con=conn)\n",
    "\n",
    "df = df[df[\"area_land\"] != 0]\n",
    "\n",
    "#Negate rates which should be nagative\n",
    "def growth_rate_correction(x):\n",
    "    if x[\"death_rate\"] > x[\"birth_rate\"]:\n",
    "        return -1 * x[\"population_growth\"]\n",
    "    else:\n",
    "        return x[\"population_growth\"]\n",
    "\n",
    "df[\"corrected_population_growth\"] = df[[\"birth_rate\",\"death_rate\",\"population_growth\"]].apply(growth_rate_correction,axis=1)"
   ]
  },
  {
   "cell_type": "markdown",
   "metadata": {},
   "source": [
    "#### Population Projection 2020-2100"
   ]
  },
  {
   "cell_type": "code",
   "execution_count": 4,
   "metadata": {
    "collapsed": false
   },
   "outputs": [
    {
     "data": {
      "text/html": [
       "<div>\n",
       "<table border=\"1\" class=\"dataframe\">\n",
       "  <thead>\n",
       "    <tr style=\"text-align: right;\">\n",
       "      <th></th>\n",
       "      <th>name</th>\n",
       "      <th>population</th>\n",
       "      <th>in_2020</th>\n",
       "      <th>in_2025</th>\n",
       "      <th>in_2030</th>\n",
       "      <th>in_2035</th>\n",
       "      <th>in_2040</th>\n",
       "      <th>in_2045</th>\n",
       "      <th>in_2050</th>\n",
       "      <th>in_2100</th>\n",
       "    </tr>\n",
       "  </thead>\n",
       "  <tbody>\n",
       "    <tr>\n",
       "      <th>76</th>\n",
       "      <td>India</td>\n",
       "      <td>1251695584.000</td>\n",
       "      <td>1330425877.127</td>\n",
       "      <td>1414108220.204</td>\n",
       "      <td>1503054091.798</td>\n",
       "      <td>1597594562.137</td>\n",
       "      <td>1698081525.407</td>\n",
       "      <td>1804889009.556</td>\n",
       "      <td>1918414568.486</td>\n",
       "      <td>3530710407.721</td>\n",
       "    </tr>\n",
       "    <tr>\n",
       "      <th>84</th>\n",
       "      <td>Japan</td>\n",
       "      <td>126919659.000</td>\n",
       "      <td>125908352.348</td>\n",
       "      <td>124905103.874</td>\n",
       "      <td>123909849.369</td>\n",
       "      <td>122922525.137</td>\n",
       "      <td>121943067.988</td>\n",
       "      <td>120971415.237</td>\n",
       "      <td>120007504.698</td>\n",
       "      <td>110780889.276</td>\n",
       "    </tr>\n",
       "    <tr>\n",
       "      <th>183</th>\n",
       "      <td>United Arab Emirates</td>\n",
       "      <td>5779760.000</td>\n",
       "      <td>6575575.872</td>\n",
       "      <td>7480967.730</td>\n",
       "      <td>8511023.106</td>\n",
       "      <td>9682906.934</td>\n",
       "      <td>11016147.592</td>\n",
       "      <td>12532962.322</td>\n",
       "      <td>14258627.460</td>\n",
       "      <td>51798550.142</td>\n",
       "    </tr>\n",
       "  </tbody>\n",
       "</table>\n",
       "</div>"
      ],
      "text/plain": [
       "                     name     population        in_2020        in_2025  \\\n",
       "76                  India 1251695584.000 1330425877.127 1414108220.204   \n",
       "84                  Japan  126919659.000  125908352.348  124905103.874   \n",
       "183  United Arab Emirates    5779760.000    6575575.872    7480967.730   \n",
       "\n",
       "           in_2030        in_2035        in_2040        in_2045  \\\n",
       "76  1503054091.798 1597594562.137 1698081525.407 1804889009.556   \n",
       "84   123909849.369  122922525.137  121943067.988  120971415.237   \n",
       "183    8511023.106    9682906.934   11016147.592   12532962.322   \n",
       "\n",
       "           in_2050        in_2100  \n",
       "76  1918414568.486 3530710407.721  \n",
       "84   120007504.698  110780889.276  \n",
       "183   14258627.460   51798550.142  "
      ]
     },
     "execution_count": 4,
     "metadata": {},
     "output_type": "execute_result"
    }
   ],
   "source": [
    "def projected_pop(row,in_years):\n",
    "    N = row[\"population\"] * math.pow(math.e, (row[\"corrected_population_growth\"]/100) * in_years)\n",
    "    return N\n",
    "\n",
    "df[\"in_2020\"] = df[[\"population\",\"corrected_population_growth\"]].apply(lambda x: projected_pop(x,5),axis=1)\n",
    "df[\"in_2025\"] = df[[\"population\",\"corrected_population_growth\"]].apply(lambda x: projected_pop(x,10),axis=1)\n",
    "df[\"in_2030\"] = df[[\"population\",\"corrected_population_growth\"]].apply(lambda x: projected_pop(x,15),axis=1)\n",
    "df[\"in_2035\"] = df[[\"population\",\"corrected_population_growth\"]].apply(lambda x: projected_pop(x,20),axis=1)\n",
    "df[\"in_2040\"] = df[[\"population\",\"corrected_population_growth\"]].apply(lambda x: projected_pop(x,25),axis=1)\n",
    "df[\"in_2045\"] = df[[\"population\",\"corrected_population_growth\"]].apply(lambda x: projected_pop(x,30),axis=1)\n",
    "df[\"in_2050\"] = df[[\"population\",\"corrected_population_growth\"]].apply(lambda x: projected_pop(x,35),axis=1)\n",
    "df[\"in_2100\"] = df[[\"population\",\"corrected_population_growth\"]].apply(lambda x: projected_pop(x,85),axis=1)\n",
    "\n",
    "df[[\"name\",\"population\",\"in_2020\",\"in_2025\",\"in_2030\",\"in_2035\",\"in_2040\",\"in_2045\",\n",
    "   \"in_2050\",\"in_2100\"]][df[\"name\"].isin( [\"Japan\",\"India\",\"United Arab Emirates\"])]"
   ]
  },
  {
   "cell_type": "markdown",
   "metadata": {},
   "source": [
    "#### Plotting Population Projection for Japan, India and UAE"
   ]
  },
  {
   "cell_type": "code",
   "execution_count": 5,
   "metadata": {
    "collapsed": false
   },
   "outputs": [
    {
     "data": {
      "image/png": "[encoded data removed]",
      "text/plain": [
       "<matplotlib.figure.Figure at 0x11317b7f0>"
      ]
     },
     "metadata": {},
     "output_type": "display_data"
    },
    {
     "data": {
      "image/png": "[encoded data removed]",
      "text/plain": [
       "<matplotlib.figure.Figure at 0x1155b1240>"
      ]
     },
     "metadata": {},
     "output_type": "display_data"
    },
    {
     "data": {
      "image/png": "[encoded data removed]",
      "text/plain": [
       "<matplotlib.figure.Figure at 0x115d55470>"
      ]
     },
     "metadata": {},
     "output_type": "display_data"
    }
   ],
   "source": [
    "import matplotlib.pyplot as plt\n",
    "\n",
    "uae_population_projection = df[[\"population\",\"in_2020\",\"in_2025\",\"in_2030\",\"in_2035\",\"in_2040\",\"in_2045\",\n",
    "   \"in_2050\",\"in_2100\"]][df[\"name\"] == \"Japan\"].squeeze()\n",
    "\n",
    "uae_population_projection.plot(kind=\"bar\")\n",
    "plt.xticks(rotation=45)\n",
    "\n",
    "plt.title(\"Japan Population Projection\")\n",
    "plt.show()\n",
    "\n",
    "uae_population_projection = df[[\"population\",\"in_2020\",\"in_2025\",\"in_2030\",\"in_2035\",\"in_2040\",\"in_2045\",\n",
    "   \"in_2050\",\"in_2100\"]][df[\"name\"] == \"India\"].squeeze()\n",
    "\n",
    "uae_population_projection.plot(kind=\"bar\")\n",
    "plt.xticks(rotation=45)\n",
    "\n",
    "plt.title(\"India Population Projection\")\n",
    "plt.show()\n",
    "\n",
    "uae_population_projection = df[[\"population\",\"in_2020\",\"in_2025\",\"in_2030\",\"in_2035\",\"in_2040\",\"in_2045\",\n",
    "   \"in_2050\",\"in_2100\"]][df[\"name\"] == \"United Arab Emirates\"].squeeze()\n",
    "\n",
    "uae_population_projection.plot(kind=\"bar\")\n",
    "plt.xticks(rotation=45)\n",
    "\n",
    "plt.title(\"UAE Population Projection\")\n",
    "plt.show()"
   ]
  },
  {
   "cell_type": "markdown",
   "metadata": {},
   "source": [
    "#### Which countries will lose population over the next 35 years?"
   ]
  },
  {
   "cell_type": "code",
   "execution_count": 6,
   "metadata": {
    "collapsed": false
   },
   "outputs": [
    {
     "data": {
      "text/html": [
       "<div>\n",
       "<table border=\"1\" class=\"dataframe\">\n",
       "  <thead>\n",
       "    <tr style=\"text-align: right;\">\n",
       "      <th></th>\n",
       "      <th>name</th>\n",
       "      <th>population</th>\n",
       "      <th>in_2030</th>\n",
       "      <th>in_2050</th>\n",
       "      <th>in_2100</th>\n",
       "    </tr>\n",
       "  </thead>\n",
       "  <tbody>\n",
       "    <tr>\n",
       "      <th>9</th>\n",
       "      <td>Austria</td>\n",
       "      <td>8665550.000</td>\n",
       "      <td>7979337.555</td>\n",
       "      <td>7148162.959</td>\n",
       "      <td>5429545.316</td>\n",
       "    </tr>\n",
       "    <tr>\n",
       "      <th>15</th>\n",
       "      <td>Belarus</td>\n",
       "      <td>9589689.000</td>\n",
       "      <td>9306270.858</td>\n",
       "      <td>8941366.758</td>\n",
       "      <td>8090483.211</td>\n",
       "    </tr>\n",
       "    <tr>\n",
       "      <th>21</th>\n",
       "      <td>Bosnia and Herzegovina</td>\n",
       "      <td>3867055.000</td>\n",
       "      <td>3792377.896</td>\n",
       "      <td>3695046.857</td>\n",
       "      <td>3462508.185</td>\n",
       "    </tr>\n",
       "    <tr>\n",
       "      <th>25</th>\n",
       "      <td>Bulgaria</td>\n",
       "      <td>7186893.000</td>\n",
       "      <td>6588060.202</td>\n",
       "      <td>5866504.379</td>\n",
       "      <td>4389691.496</td>\n",
       "    </tr>\n",
       "    <tr>\n",
       "      <th>43</th>\n",
       "      <td>Croatia</td>\n",
       "      <td>4464844.000</td>\n",
       "      <td>4378622.930</td>\n",
       "      <td>4266245.964</td>\n",
       "      <td>3997760.284</td>\n",
       "    </tr>\n",
       "    <tr>\n",
       "      <th>46</th>\n",
       "      <td>Czech Republic</td>\n",
       "      <td>10644842.000</td>\n",
       "      <td>10392407.127</td>\n",
       "      <td>10065114.706</td>\n",
       "      <td>9291271.914</td>\n",
       "    </tr>\n",
       "    <tr>\n",
       "      <th>56</th>\n",
       "      <td>Estonia</td>\n",
       "      <td>1265420.000</td>\n",
       "      <td>1165213.210</td>\n",
       "      <td>1043837.768</td>\n",
       "      <td>792870.070</td>\n",
       "    </tr>\n",
       "    <tr>\n",
       "      <th>64</th>\n",
       "      <td>Germany</td>\n",
       "      <td>80854408.000</td>\n",
       "      <td>78818686.356</td>\n",
       "      <td>76183896.265</td>\n",
       "      <td>69975844.593</td>\n",
       "    </tr>\n",
       "    <tr>\n",
       "      <th>66</th>\n",
       "      <td>Greece</td>\n",
       "      <td>10775643.000</td>\n",
       "      <td>10759491.652</td>\n",
       "      <td>10737994.173</td>\n",
       "      <td>10684438.204</td>\n",
       "    </tr>\n",
       "    <tr>\n",
       "      <th>74</th>\n",
       "      <td>Hungary</td>\n",
       "      <td>9897541.000</td>\n",
       "      <td>9576252.563</td>\n",
       "      <td>9164032.788</td>\n",
       "      <td>8209453.388</td>\n",
       "    </tr>\n",
       "    <tr>\n",
       "      <th>82</th>\n",
       "      <td>Italy</td>\n",
       "      <td>61855120.000</td>\n",
       "      <td>59400038.608</td>\n",
       "      <td>56277503.705</td>\n",
       "      <td>49170550.457</td>\n",
       "    </tr>\n",
       "    <tr>\n",
       "      <th>84</th>\n",
       "      <td>Japan</td>\n",
       "      <td>126919659.000</td>\n",
       "      <td>123909849.369</td>\n",
       "      <td>120007504.698</td>\n",
       "      <td>110780889.276</td>\n",
       "    </tr>\n",
       "    <tr>\n",
       "      <th>95</th>\n",
       "      <td>Latvia</td>\n",
       "      <td>1986705.000</td>\n",
       "      <td>1694652.131</td>\n",
       "      <td>1370913.749</td>\n",
       "      <td>806926.646</td>\n",
       "    </tr>\n",
       "    <tr>\n",
       "      <th>101</th>\n",
       "      <td>Lithuania</td>\n",
       "      <td>2884433.000</td>\n",
       "      <td>2467803.162</td>\n",
       "      <td>2004367.094</td>\n",
       "      <td>1191637.423</td>\n",
       "    </tr>\n",
       "    <tr>\n",
       "      <th>115</th>\n",
       "      <td>Moldova</td>\n",
       "      <td>3546847.000</td>\n",
       "      <td>3039092.770</td>\n",
       "      <td>2473314.218</td>\n",
       "      <td>1477806.716</td>\n",
       "    </tr>\n",
       "    <tr>\n",
       "      <th>116</th>\n",
       "      <td>Monaco</td>\n",
       "      <td>30535.000</td>\n",
       "      <td>29990.287</td>\n",
       "      <td>29279.089</td>\n",
       "      <td>27574.007</td>\n",
       "    </tr>\n",
       "    <tr>\n",
       "      <th>138</th>\n",
       "      <td>Poland</td>\n",
       "      <td>38562189.000</td>\n",
       "      <td>38045097.668</td>\n",
       "      <td>37366412.402</td>\n",
       "      <td>35722196.162</td>\n",
       "    </tr>\n",
       "    <tr>\n",
       "      <th>139</th>\n",
       "      <td>Portugal</td>\n",
       "      <td>10825309.000</td>\n",
       "      <td>10680149.361</td>\n",
       "      <td>10489626.522</td>\n",
       "      <td>10028056.540</td>\n",
       "    </tr>\n",
       "    <tr>\n",
       "      <th>141</th>\n",
       "      <td>Romania</td>\n",
       "      <td>21666350.000</td>\n",
       "      <td>20712976.041</td>\n",
       "      <td>19506746.220</td>\n",
       "      <td>16789612.066</td>\n",
       "    </tr>\n",
       "    <tr>\n",
       "      <th>142</th>\n",
       "      <td>Russia</td>\n",
       "      <td>142423773.000</td>\n",
       "      <td>141571788.870</td>\n",
       "      <td>140443732.800</td>\n",
       "      <td>137662760.565</td>\n",
       "    </tr>\n",
       "    <tr>\n",
       "      <th>152</th>\n",
       "      <td>Serbia</td>\n",
       "      <td>7176794.000</td>\n",
       "      <td>6698293.318</td>\n",
       "      <td>6109547.828</td>\n",
       "      <td>4854241.046</td>\n",
       "    </tr>\n",
       "    <tr>\n",
       "      <th>157</th>\n",
       "      <td>Slovenia</td>\n",
       "      <td>1983412.000</td>\n",
       "      <td>1907547.898</td>\n",
       "      <td>1810890.284</td>\n",
       "      <td>1590134.484</td>\n",
       "    </tr>\n",
       "    <tr>\n",
       "      <th>182</th>\n",
       "      <td>Ukraine</td>\n",
       "      <td>44429471.000</td>\n",
       "      <td>40605479.092</td>\n",
       "      <td>36013829.249</td>\n",
       "      <td>26679700.904</td>\n",
       "    </tr>\n",
       "    <tr>\n",
       "      <th>213</th>\n",
       "      <td>Saint Pierre and Miquelon</td>\n",
       "      <td>5657.000</td>\n",
       "      <td>4810.946</td>\n",
       "      <td>3876.349</td>\n",
       "      <td>2258.936</td>\n",
       "    </tr>\n",
       "  </tbody>\n",
       "</table>\n",
       "</div>"
      ],
      "text/plain": [
       "                          name    population       in_2030       in_2050  \\\n",
       "9                      Austria   8665550.000   7979337.555   7148162.959   \n",
       "15                     Belarus   9589689.000   9306270.858   8941366.758   \n",
       "21      Bosnia and Herzegovina   3867055.000   3792377.896   3695046.857   \n",
       "25                    Bulgaria   7186893.000   6588060.202   5866504.379   \n",
       "43                     Croatia   4464844.000   4378622.930   4266245.964   \n",
       "46              Czech Republic  10644842.000  10392407.127  10065114.706   \n",
       "56                     Estonia   1265420.000   1165213.210   1043837.768   \n",
       "64                     Germany  80854408.000  78818686.356  76183896.265   \n",
       "66                      Greece  10775643.000  10759491.652  10737994.173   \n",
       "74                     Hungary   9897541.000   9576252.563   9164032.788   \n",
       "82                       Italy  61855120.000  59400038.608  56277503.705   \n",
       "84                       Japan 126919659.000 123909849.369 120007504.698   \n",
       "95                      Latvia   1986705.000   1694652.131   1370913.749   \n",
       "101                  Lithuania   2884433.000   2467803.162   2004367.094   \n",
       "115                    Moldova   3546847.000   3039092.770   2473314.218   \n",
       "116                     Monaco     30535.000     29990.287     29279.089   \n",
       "138                     Poland  38562189.000  38045097.668  37366412.402   \n",
       "139                   Portugal  10825309.000  10680149.361  10489626.522   \n",
       "141                    Romania  21666350.000  20712976.041  19506746.220   \n",
       "142                     Russia 142423773.000 141571788.870 140443732.800   \n",
       "152                     Serbia   7176794.000   6698293.318   6109547.828   \n",
       "157                   Slovenia   1983412.000   1907547.898   1810890.284   \n",
       "182                    Ukraine  44429471.000  40605479.092  36013829.249   \n",
       "213  Saint Pierre and Miquelon      5657.000      4810.946      3876.349   \n",
       "\n",
       "          in_2100  \n",
       "9     5429545.316  \n",
       "15    8090483.211  \n",
       "21    3462508.185  \n",
       "25    4389691.496  \n",
       "43    3997760.284  \n",
       "46    9291271.914  \n",
       "56     792870.070  \n",
       "64   69975844.593  \n",
       "66   10684438.204  \n",
       "74    8209453.388  \n",
       "82   49170550.457  \n",
       "84  110780889.276  \n",
       "95     806926.646  \n",
       "101   1191637.423  \n",
       "115   1477806.716  \n",
       "116     27574.007  \n",
       "138  35722196.162  \n",
       "139  10028056.540  \n",
       "141  16789612.066  \n",
       "142 137662760.565  \n",
       "152   4854241.046  \n",
       "157   1590134.484  \n",
       "182  26679700.904  \n",
       "213      2258.936  "
      ]
     },
     "execution_count": 6,
     "metadata": {},
     "output_type": "execute_result"
    }
   ],
   "source": [
    "losing_population = df[[\"name\",\"population\",\"in_2030\",\"in_2050\",\"in_2100\"]][df[\"in_2050\"] < df[\"population\"]]\n",
    "\n",
    "losing_population"
   ]
  },
  {
   "cell_type": "markdown",
   "metadata": {},
   "source": [
    "#### Which countries have the lowest population density?"
   ]
  },
  {
   "cell_type": "code",
   "execution_count": 7,
   "metadata": {
    "collapsed": false
   },
   "outputs": [
    {
     "name": "stderr",
     "output_type": "stream",
     "text": [
      "/Users/iHijazi/anaconda/lib/python3.5/site-packages/ipykernel/__main__.py:3: FutureWarning: sort(columns=....) is deprecated, use sort_values(by=.....)\n",
      "  app.launch_new_instance()\n"
     ]
    },
    {
     "data": {
      "text/html": [
       "<div>\n",
       "<table border=\"1\" class=\"dataframe\">\n",
       "  <thead>\n",
       "    <tr style=\"text-align: right;\">\n",
       "      <th></th>\n",
       "      <th>name</th>\n",
       "      <th>pop_density</th>\n",
       "    </tr>\n",
       "  </thead>\n",
       "  <tbody>\n",
       "    <tr>\n",
       "      <th>142</th>\n",
       "      <td>Russia</td>\n",
       "      <td>8.330</td>\n",
       "    </tr>\n",
       "    <tr>\n",
       "      <th>213</th>\n",
       "      <td>Saint Pierre and Miquelon</td>\n",
       "      <td>23.376</td>\n",
       "    </tr>\n",
       "    <tr>\n",
       "      <th>56</th>\n",
       "      <td>Estonia</td>\n",
       "      <td>27.979</td>\n",
       "    </tr>\n",
       "    <tr>\n",
       "      <th>95</th>\n",
       "      <td>Latvia</td>\n",
       "      <td>30.759</td>\n",
       "    </tr>\n",
       "    <tr>\n",
       "      <th>101</th>\n",
       "      <td>Lithuania</td>\n",
       "      <td>44.172</td>\n",
       "    </tr>\n",
       "    <tr>\n",
       "      <th>15</th>\n",
       "      <td>Belarus</td>\n",
       "      <td>46.193</td>\n",
       "    </tr>\n",
       "    <tr>\n",
       "      <th>25</th>\n",
       "      <td>Bulgaria</td>\n",
       "      <td>64.817</td>\n",
       "    </tr>\n",
       "    <tr>\n",
       "      <th>182</th>\n",
       "      <td>Ukraine</td>\n",
       "      <td>73.614</td>\n",
       "    </tr>\n",
       "    <tr>\n",
       "      <th>21</th>\n",
       "      <td>Bosnia and Herzegovina</td>\n",
       "      <td>75.533</td>\n",
       "    </tr>\n",
       "    <tr>\n",
       "      <th>43</th>\n",
       "      <td>Croatia</td>\n",
       "      <td>78.893</td>\n",
       "    </tr>\n",
       "  </tbody>\n",
       "</table>\n",
       "</div>"
      ],
      "text/plain": [
       "                          name  pop_density\n",
       "142                     Russia        8.330\n",
       "213  Saint Pierre and Miquelon       23.376\n",
       "56                     Estonia       27.979\n",
       "95                      Latvia       30.759\n",
       "101                  Lithuania       44.172\n",
       "15                     Belarus       46.193\n",
       "25                    Bulgaria       64.817\n",
       "182                    Ukraine       73.614\n",
       "21      Bosnia and Herzegovina       75.533\n",
       "43                     Croatia       78.893"
      ]
     },
     "execution_count": 7,
     "metadata": {},
     "output_type": "execute_result"
    }
   ],
   "source": [
    "df[\"pop_density\"] = df[\"population\"] / df[\"area\"]\n",
    "\n",
    "df[df[\"in_2050\"] < df[\"population\"]][[\"name\",\"pop_density\"]].sort(\"pop_density\",ascending=True)[:10]"
   ]
  },
  {
   "cell_type": "markdown",
   "metadata": {},
   "source": [
    "#### Which countries have the highest population density?"
   ]
  },
  {
   "cell_type": "code",
   "execution_count": 8,
   "metadata": {
    "collapsed": false
   },
   "outputs": [
    {
     "name": "stderr",
     "output_type": "stream",
     "text": [
      "/Users/iHijazi/anaconda/lib/python3.5/site-packages/ipykernel/__main__.py:1: FutureWarning: sort(columns=....) is deprecated, use sort_values(by=.....)\n",
      "  if __name__ == '__main__':\n"
     ]
    },
    {
     "data": {
      "text/html": [
       "<div>\n",
       "<table border=\"1\" class=\"dataframe\">\n",
       "  <thead>\n",
       "    <tr style=\"text-align: right;\">\n",
       "      <th></th>\n",
       "      <th>name</th>\n",
       "      <th>pop_density</th>\n",
       "    </tr>\n",
       "  </thead>\n",
       "  <tbody>\n",
       "    <tr>\n",
       "      <th>116</th>\n",
       "      <td>Monaco</td>\n",
       "      <td>15267.500</td>\n",
       "    </tr>\n",
       "    <tr>\n",
       "      <th>84</th>\n",
       "      <td>Japan</td>\n",
       "      <td>335.842</td>\n",
       "    </tr>\n",
       "    <tr>\n",
       "      <th>64</th>\n",
       "      <td>Germany</td>\n",
       "      <td>226.469</td>\n",
       "    </tr>\n",
       "    <tr>\n",
       "      <th>82</th>\n",
       "      <td>Italy</td>\n",
       "      <td>205.267</td>\n",
       "    </tr>\n",
       "    <tr>\n",
       "      <th>46</th>\n",
       "      <td>Czech Republic</td>\n",
       "      <td>134.972</td>\n",
       "    </tr>\n",
       "    <tr>\n",
       "      <th>138</th>\n",
       "      <td>Poland</td>\n",
       "      <td>123.326</td>\n",
       "    </tr>\n",
       "    <tr>\n",
       "      <th>139</th>\n",
       "      <td>Portugal</td>\n",
       "      <td>117.551</td>\n",
       "    </tr>\n",
       "    <tr>\n",
       "      <th>74</th>\n",
       "      <td>Hungary</td>\n",
       "      <td>106.393</td>\n",
       "    </tr>\n",
       "    <tr>\n",
       "      <th>115</th>\n",
       "      <td>Moldova</td>\n",
       "      <td>104.778</td>\n",
       "    </tr>\n",
       "    <tr>\n",
       "      <th>9</th>\n",
       "      <td>Austria</td>\n",
       "      <td>103.320</td>\n",
       "    </tr>\n",
       "  </tbody>\n",
       "</table>\n",
       "</div>"
      ],
      "text/plain": [
       "               name  pop_density\n",
       "116          Monaco    15267.500\n",
       "84            Japan      335.842\n",
       "64          Germany      226.469\n",
       "82            Italy      205.267\n",
       "46   Czech Republic      134.972\n",
       "138          Poland      123.326\n",
       "139        Portugal      117.551\n",
       "74          Hungary      106.393\n",
       "115         Moldova      104.778\n",
       "9           Austria      103.320"
      ]
     },
     "execution_count": 8,
     "metadata": {},
     "output_type": "execute_result"
    }
   ],
   "source": [
    "df[df[\"in_2050\"] < df[\"population\"]][[\"name\",\"pop_density\"]].sort(\"pop_density\",ascending=False)[:10]"
   ]
  },
  {
   "cell_type": "markdown",
   "metadata": {},
   "source": [
    "#### Average Population, Population Growth, Birth Rate and Death Rate using SQL"
   ]
  },
  {
   "cell_type": "code",
   "execution_count": 9,
   "metadata": {
    "collapsed": false
   },
   "outputs": [
    {
     "name": "stdout",
     "output_type": "stream",
     "text": [
      "Average Population:  62094928.32231405\n",
      "Average Population Growth:  1.2009745762711865\n",
      "Average Birth Rate:  19.32855263157894\n",
      "Average Death Rate:  7.8212719298245625\n"
     ]
    }
   ],
   "source": [
    "result = c.execute(\"SELECT AVG(population), AVG(population_growth), AVG(birth_rate), AVG(death_rate) FROM facts\").fetchone()\n",
    "print(\"Average Population: \", result[0])\n",
    "print(\"Average Population Growth: \", result[1])\n",
    "print(\"Average Birth Rate: \", result[2])\n",
    "print(\"Average Death Rate: \", result[3])"
   ]
  },
  {
   "cell_type": "markdown",
   "metadata": {},
   "source": [
    "#### Lowest Population using SQL"
   ]
  },
  {
   "cell_type": "code",
   "execution_count": 10,
   "metadata": {
    "collapsed": false
   },
   "outputs": [
    {
     "data": {
      "text/plain": [
       "[('Pitcairn Islands', 48),\n",
       " ('Cocos (Keeling) Islands', 596),\n",
       " ('Holy See (Vatican City)', 842),\n",
       " ('Niue', 1190),\n",
       " ('Tokelau', 1337)]"
      ]
     },
     "execution_count": 10,
     "metadata": {},
     "output_type": "execute_result"
    }
   ],
   "source": [
    "result = c.execute(\"SELECT name, population FROM facts WHERE population > 0 ORDER BY population ASC\")\n",
    "                   \n",
    "result.fetchmany(5)"
   ]
  },
  {
   "cell_type": "markdown",
   "metadata": {},
   "source": [
    "#### Highest Population"
   ]
  },
  {
   "cell_type": "code",
   "execution_count": 11,
   "metadata": {
    "collapsed": false
   },
   "outputs": [
    {
     "data": {
      "text/plain": [
       "[('World', 7256490011),\n",
       " ('China', 1367485388),\n",
       " ('India', 1251695584),\n",
       " ('European Union', 513949445),\n",
       " ('United States', 321368864)]"
      ]
     },
     "execution_count": 11,
     "metadata": {},
     "output_type": "execute_result"
    }
   ],
   "source": [
    "result = c.execute(\"SELECT name, population FROM facts WHERE population > 0 ORDER BY population DESC\")\n",
    "\n",
    "result.fetchmany(5)"
   ]
  },
  {
   "cell_type": "markdown",
   "metadata": {},
   "source": [
    "#### Lowest Birth Rate"
   ]
  },
  {
   "cell_type": "code",
   "execution_count": 12,
   "metadata": {
    "collapsed": false
   },
   "outputs": [
    {
     "data": {
      "text/plain": [
       "[('Monaco', 6.65),\n",
       " ('Saint Pierre and Miquelon', 7.42),\n",
       " ('Japan', 7.93),\n",
       " ('Andorra', 8.13),\n",
       " ('Korea, South', 8.19)]"
      ]
     },
     "execution_count": 12,
     "metadata": {},
     "output_type": "execute_result"
    }
   ],
   "source": [
    "result = c.execute(\"SELECT name, birth_rate from facts where birth_rate > 0 ORDER BY birth_rate ASC\")\n",
    "\n",
    "result.fetchmany(5)"
   ]
  },
  {
   "cell_type": "markdown",
   "metadata": {},
   "source": [
    "#### Highest Birth Rate"
   ]
  },
  {
   "cell_type": "code",
   "execution_count": 13,
   "metadata": {
    "collapsed": false
   },
   "outputs": [
    {
     "data": {
      "text/plain": [
       "[('Niger', 45.45),\n",
       " ('Mali', 44.99),\n",
       " ('Uganda', 43.79),\n",
       " ('Zambia', 42.13),\n",
       " ('Burkina Faso', 42.03)]"
      ]
     },
     "execution_count": 13,
     "metadata": {},
     "output_type": "execute_result"
    }
   ],
   "source": [
    "result = c.execute(\"SELECT name, birth_rate FROM facts WHERE birth_rate > 0 ORDER BY birth_rate DESC\")\n",
    "\n",
    "result.fetchmany(5)"
   ]
  },
  {
   "cell_type": "markdown",
   "metadata": {},
   "source": [
    "#### Lowest Death Rate"
   ]
  },
  {
   "cell_type": "code",
   "execution_count": 14,
   "metadata": {
    "collapsed": false
   },
   "outputs": [
    {
     "data": {
      "text/plain": [
       "[('Qatar', 1.53),\n",
       " ('United Arab Emirates', 1.97),\n",
       " ('Kuwait', 2.18),\n",
       " ('Bahrain', 2.69),\n",
       " ('Gaza Strip', 3.04)]"
      ]
     },
     "execution_count": 14,
     "metadata": {},
     "output_type": "execute_result"
    }
   ],
   "source": [
    "result = c.execute(\"SELECT name, death_rate FROM facts WHERE death_rate > 0 ORDER BY death_rate ASC\")\n",
    "\n",
    "result.fetchmany(5)"
   ]
  },
  {
   "cell_type": "markdown",
   "metadata": {},
   "source": [
    "#### Highest Death Rate"
   ]
  },
  {
   "cell_type": "code",
   "execution_count": 15,
   "metadata": {
    "collapsed": false
   },
   "outputs": [
    {
     "name": "stdout",
     "output_type": "stream",
     "text": [
      "[('Lesotho', 14.89), ('Ukraine', 14.46), ('Bulgaria', 14.44), ('Guinea-Bissau', 14.33), ('Latvia', 14.31)]\n"
     ]
    }
   ],
   "source": [
    "result = c.execute(\"SELECT name, death_rate FROM facts WHERE death_rate > 0 ORDER BY death_rate DESC\")\n",
    "\n",
    "print(result.fetchmany(5))\n",
    "\n",
    "conn.close()"
   ]
  },
  {
   "cell_type": "markdown",
   "metadata": {},
   "source": [
    "#### Export Data to CSV"
   ]
  },
  {
   "cell_type": "code",
   "execution_count": 16,
   "metadata": {
    "collapsed": true
   },
   "outputs": [],
   "source": [
    "df.to_csv(\"factbook.csv\")"
   ]
  },
  {
   "cell_type": "markdown",
   "metadata": {},
   "source": [
    "# That's it\n",
    "--\n",
    "\n",
    "But many more questions can be asked, why don't you try it yourself? If you wish to download the exported CSV file, [click here](factbook.csv)\n",
    "\n",
    "Prepared by Issam Hijazi\n",
    "https://ae.linkedin.com/in/ihijazi\n",
    "@iHijazi"
   ]
  },
  {
   "cell_type": "code",
   "execution_count": null,
   "metadata": {
    "collapsed": true
   },
   "outputs": [],
   "source": []
  }
 ],
 "metadata": {
  "anaconda-cloud": {},
  "kernelspec": {
   "display_name": "Python [default]",
   "language": "python",
   "name": "python3"
  },
  "language_info": {
   "codemirror_mode": {
    "name": "ipython",
    "version": 3
   },
   "file_extension": ".py",
   "mimetype": "text/x-python",
   "name": "python",
   "nbconvert_exporter": "python",
   "pygments_lexer": "ipython3",
   "version": "3.5.2"
  }
 },
 "nbformat": 4,
 "nbformat_minor": 1
}
