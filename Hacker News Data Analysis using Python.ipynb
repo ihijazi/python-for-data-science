{
 "cells": [
  {
   "cell_type": "markdown",
   "metadata": {},
   "source": [
    "# Hacker News Data Analysis using Python \n",
    "\n",
    "I'll be working with a dataset that has submissions to Hacker News from 2006 to 2015. Hacker News is a site where users can submit articles from across the internet (usually about technology and startups), and others can \"upvote\" the articles, signifying that they like them. The more upvotes a submission gets, the more popular it was in the community. Popular articles get to the \"front page\" of Hacker News, where they're more likely to be seen by others.\n",
    "\n",
    "You may download the dataset from [here](https://github.com/arnauddri/hn/blob/master/data/stories.7z). It worth mentioning that it has 1,553,934 entries"
   ]
  },
  {
   "cell_type": "markdown",
   "metadata": {},
   "source": [
    "#### Loading Dataset"
   ]
  },
  {
   "cell_type": "code",
   "execution_count": 1,
   "metadata": {
    "collapsed": false
   },
   "outputs": [
    {
     "data": {
      "text/html": [
       "<div>\n",
       "<table border=\"1\" class=\"dataframe\">\n",
       "  <thead>\n",
       "    <tr style=\"text-align: right;\">\n",
       "      <th></th>\n",
       "      <th>id</th>\n",
       "      <th>created_at</th>\n",
       "      <th>created_at_i</th>\n",
       "      <th>author</th>\n",
       "      <th>points</th>\n",
       "      <th>url_hostname</th>\n",
       "      <th>num_comments</th>\n",
       "      <th>title</th>\n",
       "    </tr>\n",
       "  </thead>\n",
       "  <tbody>\n",
       "    <tr>\n",
       "      <th>0</th>\n",
       "      <td>9079983</td>\n",
       "      <td>2015-02-20T11:34:22.000Z</td>\n",
       "      <td>1424432062</td>\n",
       "      <td>Rutger24s</td>\n",
       "      <td>1</td>\n",
       "      <td>startupjuncture.com</td>\n",
       "      <td>0</td>\n",
       "      <td>24sessions: live business advice over video-chat</td>\n",
       "    </tr>\n",
       "    <tr>\n",
       "      <th>1</th>\n",
       "      <td>9079986</td>\n",
       "      <td>2015-02-20T11:35:32.000Z</td>\n",
       "      <td>1424432132</td>\n",
       "      <td>AndrewDucker</td>\n",
       "      <td>3</td>\n",
       "      <td>blog.erratasec.com</td>\n",
       "      <td>0</td>\n",
       "      <td>Some notes on SuperFish</td>\n",
       "    </tr>\n",
       "    <tr>\n",
       "      <th>2</th>\n",
       "      <td>9079988</td>\n",
       "      <td>2015-02-20T11:36:18.000Z</td>\n",
       "      <td>1424432178</td>\n",
       "      <td>davidiach</td>\n",
       "      <td>1</td>\n",
       "      <td>twitter.com</td>\n",
       "      <td>0</td>\n",
       "      <td>Apple Watch models could contain 29.16g of gold</td>\n",
       "    </tr>\n",
       "    <tr>\n",
       "      <th>3</th>\n",
       "      <td>9080000</td>\n",
       "      <td>2015-02-20T11:41:06.000Z</td>\n",
       "      <td>1424432466</td>\n",
       "      <td>CiaranR</td>\n",
       "      <td>1</td>\n",
       "      <td>phpconference.co.uk</td>\n",
       "      <td>0</td>\n",
       "      <td>PHP UK Conference Diversity Scholarship Programme</td>\n",
       "    </tr>\n",
       "    <tr>\n",
       "      <th>4</th>\n",
       "      <td>9080006</td>\n",
       "      <td>2015-02-20T11:43:04.000Z</td>\n",
       "      <td>1424432584</td>\n",
       "      <td>mstolpm</td>\n",
       "      <td>2</td>\n",
       "      <td>preview.onedrive.com</td>\n",
       "      <td>2</td>\n",
       "      <td>Microsoft giving away 100GB free OneDrive stor...</td>\n",
       "    </tr>\n",
       "  </tbody>\n",
       "</table>\n",
       "</div>"
      ],
      "text/plain": [
       "        id                created_at  created_at_i        author  points  \\\n",
       "0  9079983  2015-02-20T11:34:22.000Z    1424432062     Rutger24s       1   \n",
       "1  9079986  2015-02-20T11:35:32.000Z    1424432132  AndrewDucker       3   \n",
       "2  9079988  2015-02-20T11:36:18.000Z    1424432178     davidiach       1   \n",
       "3  9080000  2015-02-20T11:41:06.000Z    1424432466       CiaranR       1   \n",
       "4  9080006  2015-02-20T11:43:04.000Z    1424432584       mstolpm       2   \n",
       "\n",
       "           url_hostname  num_comments  \\\n",
       "0   startupjuncture.com             0   \n",
       "1    blog.erratasec.com             0   \n",
       "2           twitter.com             0   \n",
       "3   phpconference.co.uk             0   \n",
       "4  preview.onedrive.com             2   \n",
       "\n",
       "                                               title  \n",
       "0   24sessions: live business advice over video-chat  \n",
       "1                            Some notes on SuperFish  \n",
       "2    Apple Watch models could contain 29.16g of gold  \n",
       "3  PHP UK Conference Diversity Scholarship Programme  \n",
       "4  Microsoft giving away 100GB free OneDrive stor...  "
      ]
     },
     "execution_count": 1,
     "metadata": {},
     "output_type": "execute_result"
    }
   ],
   "source": [
    "import pandas as pd\n",
    "\n",
    "data = pd.read_csv(\"stories.csv\")\n",
    "\n",
    "data.columns = [\"id\", \"created_at\", \"created_at_i\", \"author\", \"points\", \"url_hostname\", \"num_comments\", \"title\"]\n",
    "\n",
    "data.head()"
   ]
  },
  {
   "cell_type": "markdown",
   "metadata": {},
   "source": [
    "#### What words appear most often in the headlines?"
   ]
  },
  {
   "cell_type": "code",
   "execution_count": 2,
   "metadata": {
    "collapsed": false
   },
   "outputs": [
    {
     "data": {
      "text/plain": [
       "[('the', 331506),\n",
       " ('to', 263390),\n",
       " ('a', 208287),\n",
       " ('of', 182585),\n",
       " ('for', 177458),\n",
       " ('in', 155726),\n",
       " ('and', 146612),\n",
       " ('', 114528),\n",
       " ('on', 99864),\n",
       " ('is', 96621),\n",
       " ('with', 85871),\n",
       " ('how', 84466),\n",
       " ('hn:', 83996),\n",
       " ('your', 75014),\n",
       " ('-', 73723),\n",
       " ('you', 62178),\n",
       " ('ask', 58810),\n",
       " ('new', 51081),\n",
       " ('google', 47700),\n",
       " ('from', 46876)]"
      ]
     },
     "execution_count": 2,
     "metadata": {},
     "output_type": "execute_result"
    }
   ],
   "source": [
    "import collections as cl\n",
    "\n",
    "all_titles = ''\n",
    "\n",
    "for line in data[\"title\"]:\n",
    "    all_titles+=str(line) + ' '\n",
    "\n",
    "words = all_titles.lower().split(' ')\n",
    "\n",
    "c = cl.Counter(words)\n",
    "\n",
    "c.most_common(20)"
   ]
  },
  {
   "cell_type": "markdown",
   "metadata": {},
   "source": [
    "#### What domains were submitted most often to Hacker News?"
   ]
  },
  {
   "cell_type": "code",
   "execution_count": 3,
   "metadata": {
    "collapsed": false
   },
   "outputs": [
    {
     "data": {
      "text/plain": [
       "[('', 94735),\n",
       " ('blogspot.com', 36831),\n",
       " ('github.com', 30318),\n",
       " ('techcrunch.com', 26609),\n",
       " ('nytimes.com', 24125),\n",
       " ('youtube.com', 22030),\n",
       " ('google.com', 16307),\n",
       " ('wordpress.com', 15537),\n",
       " ('medium.com', 12992),\n",
       " ('arstechnica.com', 12336)]"
      ]
     },
     "execution_count": 3,
     "metadata": {},
     "output_type": "execute_result"
    }
   ],
   "source": [
    "import tldextract as tld\n",
    "\n",
    "def only_domain(domain):\n",
    "    if type(domain) != str:\n",
    "        return ''\n",
    "    tld_obj = tld.extract(domain)\n",
    "    return tld_obj.domain + \".\" + tld_obj.suffix\n",
    "\n",
    "data[\"url_hostname\"] = data[\"url_hostname\"].apply(only_domain)\n",
    "\n",
    "urls = cl.Counter(data[\"url_hostname\"])\n",
    "\n",
    "urls.most_common(10)"
   ]
  },
  {
   "cell_type": "markdown",
   "metadata": {},
   "source": [
    "#### What authors with no domains submitted most often to Hacker News?"
   ]
  },
  {
   "cell_type": "code",
   "execution_count": 4,
   "metadata": {
    "collapsed": false
   },
   "outputs": [
    {
     "data": {
      "text/plain": [
       "[('amichail', 525),\n",
       " ('anujkk', 143),\n",
       " ('rokhayakebe', 137),\n",
       " ('marcamillion', 124),\n",
       " ('hoodoof', 114),\n",
       " ('andrewstuart', 114),\n",
       " ('ColinWright', 110),\n",
       " ('whoishiring', 110),\n",
       " ('petervandijck', 109),\n",
       " ('diminium', 105)]"
      ]
     },
     "execution_count": 4,
     "metadata": {},
     "output_type": "execute_result"
    }
   ],
   "source": [
    "authors = cl.Counter(data[\"author\"][data[\"url_hostname\"] == ''])\n",
    "\n",
    "authors.most_common(10)"
   ]
  },
  {
   "cell_type": "markdown",
   "metadata": {},
   "source": [
    "#### At what day of week, month and hour are the most articles submitted?"
   ]
  },
  {
   "cell_type": "code",
   "execution_count": 5,
   "metadata": {
    "collapsed": false
   },
   "outputs": [],
   "source": [
    "import dateutil\n",
    "\n",
    "data[\"created_at\"] = data[\"created_at\"].apply(dateutil.parser.parse)\n",
    "\n",
    "data[\"hour\"] = data[\"created_at\"].dt.hour\n",
    "data[\"dayofweek\"] = data[\"created_at\"].dt.dayofweek\n",
    "data[\"dayofmonth\"] = data[\"created_at\"].dt.day\n",
    "\n",
    "days = {0:'Mon',1:'Tues',2:'Weds',3:'Thurs',4:'Fri',5:'Sat',6:'Sun'}\n",
    "data['dayofweek'] = data['dayofweek'].apply(lambda x: days[x])"
   ]
  },
  {
   "cell_type": "code",
   "execution_count": 6,
   "metadata": {
    "collapsed": false
   },
   "outputs": [
    {
     "name": "stdout",
     "output_type": "stream",
     "text": [
      "Best day of month:  [19, 9, 18, 10, 20, 17, 3, 12, 11, 16]\n",
      "Best day of week:  ['Tues', 'Weds', 'Thurs']\n",
      "Best hour of day:  [16, 17, 15, 18, 14]\n"
     ]
    }
   ],
   "source": [
    "print(\"Best day of month: \",[x for x,y in data[\"dayofmonth\"].value_counts()[:10].iteritems()])\n",
    "print(\"Best day of week: \",[x for x,y in data[\"dayofweek\"].value_counts()[:3].iteritems()])\n",
    "print(\"Best hour of day: \",[x for x,y in data[\"hour\"].value_counts()[:5].iteritems()])"
   ]
  },
  {
   "cell_type": "markdown",
   "metadata": {},
   "source": [
    "#### What headline length leads to the most upvotes?"
   ]
  },
  {
   "cell_type": "code",
   "execution_count": 7,
   "metadata": {
    "collapsed": false
   },
   "outputs": [
    {
     "name": "stdout",
     "output_type": "stream",
     "text": [
      "Best length mean based on top 1000 voted posts:  38.307\n"
     ]
    }
   ],
   "source": [
    "def tit_len(inp):\n",
    "    return len(str(inp))\n",
    "\n",
    "data[\"tit_len\"] = data[\"title\"].apply(tit_len)\n",
    "\n",
    "best_len = data[[\"points\",\"tit_len\"]].sort_values(\"points\",ascending=False)[:1000][\"tit_len\"].mean()\n",
    "\n",
    "print(\"Best length mean based on top 1000 voted posts: \", best_len)"
   ]
  },
  {
   "cell_type": "markdown",
   "metadata": {},
   "source": [
    "#### What submission hour leads to the most upvotes?"
   ]
  },
  {
   "cell_type": "code",
   "execution_count": 8,
   "metadata": {
    "collapsed": false
   },
   "outputs": [
    {
     "name": "stdout",
     "output_type": "stream",
     "text": [
      "Best posting hour mean based on top 1000 voted posts:  14.273\n"
     ]
    }
   ],
   "source": [
    "best_hour = data[[\"points\",\"hour\"]].sort_values(\"points\",ascending=False)[:1000][\"hour\"].mean()\n",
    "\n",
    "print(\"Best posting hour mean based on top 1000 voted posts: \", best_hour)"
   ]
  },
  {
   "cell_type": "markdown",
   "metadata": {},
   "source": [
    "#### How are the total numbers of upvotes changing over time? (trend)"
   ]
  },
  {
   "cell_type": "code",
   "execution_count": 9,
   "metadata": {
    "collapsed": false
   },
   "outputs": [
    {
     "data": {
      "image/png": "[encoded data removed]",
      "text/plain": [
       "<matplotlib.figure.Figure at 0x11517aeb8>"
      ]
     },
     "metadata": {},
     "output_type": "display_data"
    }
   ],
   "source": [
    "import matplotlib.pyplot as plt\n",
    "\n",
    "data[\"date\"] = data[\"created_at\"].dt.date\n",
    "\n",
    "df = data[[\"date\",\"points\"]].groupby(\"date\").sum()\n",
    "\n",
    "df.plot()\n",
    "\n",
    "plt.show()"
   ]
  },
  {
   "cell_type": "markdown",
   "metadata": {},
   "source": [
    "---\n",
    "---\n",
    "### That's it!\n",
    "\n",
    "Prepared by Issam Hijazi\n",
    "\n",
    "https://ae.linkedin.com/in/ihijazi\n",
    "\n",
    "@iHijazi"
   ]
  }
 ],
 "metadata": {
  "anaconda-cloud": {},
  "kernelspec": {
   "display_name": "Python [default]",
   "language": "python",
   "name": "python3"
  },
  "language_info": {
   "codemirror_mode": {
    "name": "ipython",
    "version": 3
   },
   "file_extension": ".py",
   "mimetype": "text/x-python",
   "name": "python",
   "nbconvert_exporter": "python",
   "pygments_lexer": "ipython3",
   "version": "3.5.2"
  }
 },
 "nbformat": 4,
 "nbformat_minor": 1
}
