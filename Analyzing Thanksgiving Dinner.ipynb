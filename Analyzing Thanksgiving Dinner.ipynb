{
 "cells": [
  {
   "cell_type": "markdown",
   "metadata": {},
   "source": [
    "# Analyzing Thanksgiving Dinner\n",
    "\n",
    "In this notebook, I'll be working on analyzing data on Thanksgiving dinner in the US. The dataset used contains 1058 responses to an online survey about what Americans eat for Thanksgiving dinner. It consists of 65 columns and 1058 rows, where most of the column names are questions, and most of the column values are string responses to the questions.\n",
    "\n",
    "To download the dataset, [click here](thanksgiving.csv)."
   ]
  },
  {
   "cell_type": "markdown",
   "metadata": {},
   "source": [
    "---\n",
    "#### Loading the dataset"
   ]
  },
  {
   "cell_type": "code",
   "execution_count": 1,
   "metadata": {
    "collapsed": false
   },
   "outputs": [],
   "source": [
    "import pandas as pd\n",
    "\n",
    "data = pd.read_csv(\"thanksgiving.csv\",encoding=\"Latin-1\")\n",
    "\n",
    "# uncomment the following line to get columns name neatly printed\n",
    "# cols = [print('=> ',x) for x in data.columns]"
   ]
  },
  {
   "cell_type": "markdown",
   "metadata": {},
   "source": [
    "##### Filter out records of people who do not celebrate thanksgiving"
   ]
  },
  {
   "cell_type": "code",
   "execution_count": 2,
   "metadata": {
    "collapsed": false
   },
   "outputs": [
    {
     "name": "stdout",
     "output_type": "stream",
     "text": [
      "People who don't celebrate it:\n",
      "Yes    980\n",
      "No      78\n",
      "Name: Do you celebrate Thanksgiving?, dtype: int64\n"
     ]
    }
   ],
   "source": [
    "print(\"People who don't celebrate it:\")\n",
    "print(data[\"Do you celebrate Thanksgiving?\"].value_counts())\n",
    "\n",
    "#Filter out those with \"No\" response\n",
    "data = data[data[\"Do you celebrate Thanksgiving?\"] == \"Yes\"]"
   ]
  },
  {
   "cell_type": "markdown",
   "metadata": {},
   "source": [
    "---\n",
    "##### Explore Main Dishes"
   ]
  },
  {
   "cell_type": "code",
   "execution_count": 3,
   "metadata": {
    "collapsed": false
   },
   "outputs": [
    {
     "name": "stdout",
     "output_type": "stream",
     "text": [
      "Main dishes count:\n",
      "Turkey                    859\n",
      "Other (please specify)     35\n",
      "Ham/Pork                   29\n",
      "Tofurkey                   20\n",
      "Chicken                    12\n",
      "Roast beef                 11\n",
      "I don't know                5\n",
      "Turducken                   3\n",
      "Name: What is typically the main dish at your Thanksgiving dinner?, dtype: int64\n"
     ]
    }
   ],
   "source": [
    "print(\"Main dishes count:\")\n",
    "print(data[\"What is typically the main dish at your Thanksgiving dinner?\"].value_counts())"
   ]
  },
  {
   "cell_type": "markdown",
   "metadata": {},
   "source": [
    "---\n",
    "##### Explore \"Do you typically have gravy?\" column"
   ]
  },
  {
   "cell_type": "code",
   "execution_count": 4,
   "metadata": {
    "collapsed": false
   },
   "outputs": [
    {
     "data": {
      "text/plain": [
       "Yes    12\n",
       "No      8\n",
       "Name: Do you typically have gravy?, dtype: int64"
      ]
     },
     "execution_count": 4,
     "metadata": {},
     "output_type": "execute_result"
    }
   ],
   "source": [
    "# Let's filter only \"Tofurkey\" dish \n",
    "\n",
    "gravy_Tofurkey = data[data[\"What is typically the main dish at your Thanksgiving dinner?\"] == \"Tofurkey\"][\"Do you typically have gravy?\"]\n",
    "\n",
    "gravy_Tofurkey.value_counts()"
   ]
  },
  {
   "cell_type": "markdown",
   "metadata": {},
   "source": [
    "---\n",
    "##### Figuring Out What Pies People Eat"
   ]
  },
  {
   "cell_type": "code",
   "execution_count": 5,
   "metadata": {
    "collapsed": false
   },
   "outputs": [
    {
     "name": "stdout",
     "output_type": "stream",
     "text": [
      "Apple:  514\n",
      "Pumpkin:  729\n",
      "Pecan:  342\n",
      "\n",
      "Total who ate at least one:  876\n",
      "Total who ate none:  104\n"
     ]
    }
   ],
   "source": [
    "apple_isnull = data[\"Which type of pie is typically served at your Thanksgiving dinner? Please select all that apply. - Apple\"].isnull()\n",
    "pumpkin_isnull = data[\"Which type of pie is typically served at your Thanksgiving dinner? Please select all that apply. - Pumpkin\"].isnull()\n",
    "pecan_isnull = data[\"Which type of pie is typically served at your Thanksgiving dinner? Please select all that apply. - Pecan\"].isnull()\n",
    "\n",
    "print(\"Apple: \",apple_isnull[apple_isnull == False].count())\n",
    "print(\"Pumpkin: \", pumpkin_isnull[pumpkin_isnull == False].count())\n",
    "print(\"Pecan: \",pecan_isnull[pecan_isnull == False].count())\n",
    "\n",
    "ate_pies = apple_isnull & pumpkin_isnull & pecan_isnull\n",
    "\n",
    "print()\n",
    "\n",
    "print(\"Total who ate at least one: \",ate_pies[ate_pies == False].count())\n",
    "print(\"Total who ate none: \",ate_pies[ate_pies == True].count())"
   ]
  },
  {
   "cell_type": "markdown",
   "metadata": {},
   "source": [
    "---\n",
    "##### Converting Age To Numeric"
   ]
  },
  {
   "cell_type": "code",
   "execution_count": 6,
   "metadata": {
    "collapsed": false
   },
   "outputs": [
    {
     "name": "stderr",
     "output_type": "stream",
     "text": [
      "/Users/iHijazi/anaconda/lib/python3.5/site-packages/numpy/lib/function_base.py:3834: RuntimeWarning: Invalid value encountered in percentile\n",
      "  RuntimeWarning)\n"
     ]
    },
    {
     "data": {
      "text/plain": [
       "count    947.000000\n",
       "mean      40.089757\n",
       "std       15.352014\n",
       "min       18.000000\n",
       "25%             NaN\n",
       "50%             NaN\n",
       "75%             NaN\n",
       "max       60.000000\n",
       "Name: age_int, dtype: float64"
      ]
     },
     "execution_count": 6,
     "metadata": {},
     "output_type": "execute_result"
    }
   ],
   "source": [
    "import math\n",
    "\n",
    "def conv(input_str):\n",
    "    if pd.isnull(input_str):\n",
    "        return None\n",
    "    return int(input_str.split(\" \")[0].replace(\"+\",\"\"))\n",
    "\n",
    "data[\"age_int\"] = data[\"Age\"].apply(conv)\n",
    "\n",
    "data[\"age_int\"].describe()"
   ]
  },
  {
   "cell_type": "markdown",
   "metadata": {},
   "source": [
    "---\n",
    "##### Getting Income Average "
   ]
  },
  {
   "cell_type": "code",
   "execution_count": 7,
   "metadata": {
    "collapsed": false
   },
   "outputs": [
    {
     "name": "stderr",
     "output_type": "stream",
     "text": [
      "/Users/iHijazi/anaconda/lib/python3.5/site-packages/numpy/lib/function_base.py:3834: RuntimeWarning: Invalid value encountered in percentile\n",
      "  RuntimeWarning)\n"
     ]
    },
    {
     "data": {
      "text/plain": [
       "count       829.000000\n",
       "mean      86486.276840\n",
       "std       57789.467567\n",
       "min        4999.500000\n",
       "25%                NaN\n",
       "50%                NaN\n",
       "75%                NaN\n",
       "max      200000.000000\n",
       "Name: income_int, dtype: float64"
      ]
     },
     "execution_count": 7,
     "metadata": {},
     "output_type": "execute_result"
    }
   ],
   "source": [
    "def conv_income(input_str):\n",
    "    if pd.isnull(input_str) or input_str == \"Prefer not to answer\":\n",
    "        return None\n",
    "    elif input_str == \"$200,000 and up\":\n",
    "        return 200000\n",
    "    splitted = input_str.replace(\"$\",\"\").replace(\" to\",\"\").replace(\",\",\"\").split(\" \")\n",
    "    avg = (int(splitted[0]) + int(splitted[1])) / 2\n",
    "    return avg\n",
    "\n",
    "data[\"income_int\"] = data[\"How much total combined money did all members of your HOUSEHOLD earn last year?\"].apply(conv_income)\n",
    "\n",
    "data[\"income_int\"].describe()"
   ]
  },
  {
   "cell_type": "markdown",
   "metadata": {},
   "source": [
    "---\n",
    "##### Correlating Travel Distance And Income"
   ]
  },
  {
   "cell_type": "code",
   "execution_count": 8,
   "metadata": {
    "collapsed": false
   },
   "outputs": [
    {
     "name": "stdout",
     "output_type": "stream",
     "text": [
      "How far people average earning under 50000 will travel?\n",
      "----------------------------------------------------------------------------------------\n",
      "Thanksgiving is happening at my home--I won't travel at all                         106\n",
      "Thanksgiving is local--it will take place in the town I live in                      92\n",
      "Thanksgiving is out of town but not too far--it's a drive of a few hours or less     64\n",
      "Thanksgiving is out of town and far away--I have to drive several hours or fly       16\n",
      "Name: How far will you travel for Thanksgiving?, dtype: int64\n",
      "----------------------------------------------------------------------------------------\n",
      "How far people average earning over 150000 will travel?\n",
      "Thanksgiving is happening at my home--I won't travel at all                         66\n",
      "Thanksgiving is local--it will take place in the town I live in                     34\n",
      "Thanksgiving is out of town but not too far--it's a drive of a few hours or less    25\n",
      "Thanksgiving is out of town and far away--I have to drive several hours or fly      15\n",
      "Name: How far will you travel for Thanksgiving?, dtype: int64\n"
     ]
    }
   ],
   "source": [
    "print(\"How far people average earning under 50000 will travel?\")\n",
    "print(\"----------------------------------------------------------------------------------------\")\n",
    "print(data[\"How far will you travel for Thanksgiving?\"][data[\"income_int\"] < 50000].value_counts())\n",
    "print(\"----------------------------------------------------------------------------------------\")\n",
    "print(\"How far people average earning over 150000 will travel?\")\n",
    "print(data[\"How far will you travel for Thanksgiving?\"][data[\"income_int\"] > 150000].value_counts())"
   ]
  },
  {
   "cell_type": "markdown",
   "metadata": {},
   "source": [
    "---\n",
    "##### Linking Friendship And Age"
   ]
  },
  {
   "cell_type": "code",
   "execution_count": 9,
   "metadata": {
    "collapsed": false
   },
   "outputs": [
    {
     "data": {
      "text/html": [
       "<div>\n",
       "<table border=\"1\" class=\"dataframe\">\n",
       "  <thead>\n",
       "    <tr style=\"text-align: right;\">\n",
       "      <th>Have you ever attended a \"Friendsgiving?\"</th>\n",
       "      <th>No</th>\n",
       "      <th>Yes</th>\n",
       "    </tr>\n",
       "    <tr>\n",
       "      <th>Have you ever tried to meet up with hometown friends on Thanksgiving night?</th>\n",
       "      <th></th>\n",
       "      <th></th>\n",
       "    </tr>\n",
       "  </thead>\n",
       "  <tbody>\n",
       "    <tr>\n",
       "      <th>No</th>\n",
       "      <td>42.283702</td>\n",
       "      <td>37.010526</td>\n",
       "    </tr>\n",
       "    <tr>\n",
       "      <th>Yes</th>\n",
       "      <td>41.475410</td>\n",
       "      <td>33.976744</td>\n",
       "    </tr>\n",
       "  </tbody>\n",
       "</table>\n",
       "</div>"
      ],
      "text/plain": [
       "Have you ever attended a \"Friendsgiving?\"                  No        Yes\n",
       "Have you ever tried to meet up with hometown fr...                      \n",
       "No                                                  42.283702  37.010526\n",
       "Yes                                                 41.475410  33.976744"
      ]
     },
     "execution_count": 9,
     "metadata": {},
     "output_type": "execute_result"
    }
   ],
   "source": [
    "data.pivot_table(index=\"Have you ever tried to meet up with hometown friends on Thanksgiving night?\",\n",
    "                 columns='Have you ever attended a \"Friendsgiving?\"',values=\"age_int\")"
   ]
  },
  {
   "cell_type": "code",
   "execution_count": 10,
   "metadata": {
    "collapsed": false
   },
   "outputs": [
    {
     "data": {
      "text/html": [
       "<div>\n",
       "<table border=\"1\" class=\"dataframe\">\n",
       "  <thead>\n",
       "    <tr style=\"text-align: right;\">\n",
       "      <th>Have you ever attended a \"Friendsgiving?\"</th>\n",
       "      <th>No</th>\n",
       "      <th>Yes</th>\n",
       "    </tr>\n",
       "    <tr>\n",
       "      <th>Have you ever tried to meet up with hometown friends on Thanksgiving night?</th>\n",
       "      <th></th>\n",
       "      <th></th>\n",
       "    </tr>\n",
       "  </thead>\n",
       "  <tbody>\n",
       "    <tr>\n",
       "      <th>No</th>\n",
       "      <td>89456.824480</td>\n",
       "      <td>83124.552632</td>\n",
       "    </tr>\n",
       "    <tr>\n",
       "      <th>Yes</th>\n",
       "      <td>89553.119048</td>\n",
       "      <td>76315.319079</td>\n",
       "    </tr>\n",
       "  </tbody>\n",
       "</table>\n",
       "</div>"
      ],
      "text/plain": [
       "Have you ever attended a \"Friendsgiving?\"                     No           Yes\n",
       "Have you ever tried to meet up with hometown fr...                            \n",
       "No                                                  89456.824480  83124.552632\n",
       "Yes                                                 89553.119048  76315.319079"
      ]
     },
     "execution_count": 10,
     "metadata": {},
     "output_type": "execute_result"
    }
   ],
   "source": [
    "data.pivot_table(index=\"Have you ever tried to meet up with hometown friends on Thanksgiving night?\",\n",
    "                 columns='Have you ever attended a \"Friendsgiving?\"',values=\"income_int\")"
   ]
  },
  {
   "cell_type": "markdown",
   "metadata": {},
   "source": [
    "##### Most common dessert people eat"
   ]
  },
  {
   "cell_type": "code",
   "execution_count": 11,
   "metadata": {
    "collapsed": false
   },
   "outputs": [
    {
     "name": "stdout",
     "output_type": "stream",
     "text": [
      "Apple cobbler:  110\n",
      "Blondies:  16\n",
      "Brownies:  128\n",
      "Carrot cake:  72\n",
      "Cheesecake:  191\n",
      "Cookies:  204\n",
      "Fudge:  43\n",
      "Ice cream:  266\n",
      "Peach cobbler:  103\n",
      "None:  295\n",
      "Other:  134\n"
     ]
    }
   ],
   "source": [
    "print(\"Apple cobbler: \",data[\"Which of these desserts do you typically have at Thanksgiving dinner? Please select all that apply.   - Apple cobbler\"][data[\"Which of these desserts do you typically have at Thanksgiving dinner? Please select all that apply.   - Apple cobbler\"].isnull() == False].count())\n",
    "print(\"Blondies: \",data[\"Which of these desserts do you typically have at Thanksgiving dinner? Please select all that apply.   - Blondies\"][data[\"Which of these desserts do you typically have at Thanksgiving dinner? Please select all that apply.   - Blondies\"].isnull() == False].count())\n",
    "print(\"Brownies: \",data[\"Which of these desserts do you typically have at Thanksgiving dinner? Please select all that apply.   - Brownies\"][data[\"Which of these desserts do you typically have at Thanksgiving dinner? Please select all that apply.   - Brownies\"].isnull() == False].count())\n",
    "print(\"Carrot cake: \",data[\"Which of these desserts do you typically have at Thanksgiving dinner? Please select all that apply.   - Carrot cake\"][data[\"Which of these desserts do you typically have at Thanksgiving dinner? Please select all that apply.   - Carrot cake\"].isnull() == False].count())\n",
    "print(\"Cheesecake: \",data[\"Which of these desserts do you typically have at Thanksgiving dinner? Please select all that apply.   - Cheesecake\"][data[\"Which of these desserts do you typically have at Thanksgiving dinner? Please select all that apply.   - Cheesecake\"].isnull() == False].count())\n",
    "print(\"Cookies: \",data[\"Which of these desserts do you typically have at Thanksgiving dinner? Please select all that apply.   - Cookies\"][data[\"Which of these desserts do you typically have at Thanksgiving dinner? Please select all that apply.   - Cookies\"].isnull() == False].count())\n",
    "print(\"Fudge: \",data[\"Which of these desserts do you typically have at Thanksgiving dinner? Please select all that apply.   - Fudge\"][data[\"Which of these desserts do you typically have at Thanksgiving dinner? Please select all that apply.   - Fudge\"].isnull() == False].count())\n",
    "print(\"Ice cream: \",data[\"Which of these desserts do you typically have at Thanksgiving dinner? Please select all that apply.   - Ice cream\"][data[\"Which of these desserts do you typically have at Thanksgiving dinner? Please select all that apply.   - Ice cream\"].isnull() == False].count())\n",
    "print(\"Peach cobbler: \",data[\"Which of these desserts do you typically have at Thanksgiving dinner? Please select all that apply.   - Peach cobbler\"][data[\"Which of these desserts do you typically have at Thanksgiving dinner? Please select all that apply.   - Peach cobbler\"].isnull() == False].count())\n",
    "print(\"None: \",data[\"Which of these desserts do you typically have at Thanksgiving dinner? Please select all that apply.   - None\"][data[\"Which of these desserts do you typically have at Thanksgiving dinner? Please select all that apply.   - None\"].isnull() == False].count())\n",
    "print(\"Other: \",data[\"Which of these desserts do you typically have at Thanksgiving dinner? Please select all that apply.   - Other (please specify)\"][data[\"Which of these desserts do you typically have at Thanksgiving dinner? Please select all that apply.   - Other (please specify)\"].isnull() == False].count())"
   ]
  },
  {
   "cell_type": "markdown",
   "metadata": {},
   "source": [
    "##### How many people work on Black Friday?"
   ]
  },
  {
   "cell_type": "code",
   "execution_count": 12,
   "metadata": {
    "collapsed": false
   },
   "outputs": [
    {
     "data": {
      "text/plain": [
       "Yes              43\n",
       "No               20\n",
       "Doesn't apply     7\n",
       "Name: Will you employer make you work on Black Friday?, dtype: int64"
      ]
     },
     "execution_count": 12,
     "metadata": {},
     "output_type": "execute_result"
    }
   ],
   "source": [
    "data[\"Will you employer make you work on Black Friday?\"].value_counts()"
   ]
  },
  {
   "cell_type": "markdown",
   "metadata": {},
   "source": [
    "---\n",
    "---\n",
    "# That's it\n",
    "\n",
    "Many more questions can be asked, like:\n",
    "- Find regional patterns in the dinner menus.\n",
    "- Find age, gender, and income based patterns in dinner menus.\n",
    "- Figure out the most common complete meal people eat.\n",
    "\n",
    "Why don't you try it yourself?\n",
    "\n",
    "Prepared by Issam Hijazi\n",
    "\n",
    "https://ae.linkedin.com/in/ihijazi\n",
    "\n",
    "@iHijazi"
   ]
  }
 ],
 "metadata": {
  "anaconda-cloud": {},
  "kernelspec": {
   "display_name": "Python [default]",
   "language": "python",
   "name": "python3"
  },
  "language_info": {
   "codemirror_mode": {
    "name": "ipython",
    "version": 3
   },
   "file_extension": ".py",
   "mimetype": "text/x-python",
   "name": "python",
   "nbconvert_exporter": "python",
   "pygments_lexer": "ipython3",
   "version": "3.5.2"
  }
 },
 "nbformat": 4,
 "nbformat_minor": 1
}
